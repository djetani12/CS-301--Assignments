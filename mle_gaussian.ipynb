{
  "cells": [
    {
      "cell_type": "markdown",
      "metadata": {
        "id": "dYfy22eOO2fo"
      },
      "source": [
        "# Gaussian Maximum Likelihood\n",
        "\n",
        "##  MLE of a  Gaussian $p_{model}(x|w)$\n",
        "\n",
        "You are given an array of data points called `data`. Your course site plots the negative log-likelihood  function for several candidate hypotheses. Estimate the parameters of the Gaussian $p_{model}$ by  coding an implementation that estimates its optimal parameters (15 points) and explaining what it does (10 points). You are free to use any Gradient-based optimization method you like.  "
      ]
    },
    {
      "cell_type": "code",
      "source": [
        "import numpy as np\n",
        "import matplotlib.pyplot as plt\n",
        "data = [4, 5, 7, 8, 8, 9, 10, 5, 2, 3, 5, 4, 8, 9]\n",
        "mu = np.mean(data)# mean\n",
        "sigma = np.std(data) #standard dev.\n",
        "eta = 0.01 #learning rate\n",
        "threshold = 0.000001 #value to stop the iteration for \n",
        "delta = np.inf #value to keep the loop going and stops when it meets the threshold value and goes below it\n",
        "while delta > threshold:\n",
        "    GradientMu = np.sum(mu - data) / sigma**2 #deriv of negative log-likelihood function with respect to the graident mu value\n",
        "    GradientSigma = (np.sum((data - mu)**2) - len(data)*sigma**2) / (sigma**3)#deriv of negative log-likelihood function with respect to the graident sigma value\n",
        "    newMu = mu - eta * GradientMu #new mu value after deriv value\n",
        "    newSigma = sigma - eta * GradientSigma #new sigma value after deriv value\n",
        "    delta = np.abs(newMu - mu) + np.abs(newSigma - sigma) #change delta for loop iteration of new difference between old and new mu and sigma\n",
        "    mu = newMu #change the inital mu value\n",
        "    sigma = newSigma #change the inital sigma value\n",
        "print(\"MEAN:\", mu)\n",
        "print(\"STANDARD DEVIATION:\", sigma)\n",
        "x = np.linspace(np.min(data), np.max(data), 200)# 200 evenly spaced numbers between 2-10\n",
        "pdf = 1/(sigma*np.sqrt(2*np.pi)) * np.exp(-0.5*((x - mu)/sigma)**2)# PDF with new sigma and mu values\n",
        "plt.hist(data, density=True, bins=20)\n",
        "plt.plot(x, pdf, 'r-', lw=3)\n",
        "plt.title('MLE of a Gaussian')\n",
        "plt.show()"
      ],
      "metadata": {
        "colab": {
          "base_uri": "https://localhost:8080/",
          "height": 316
        },
        "id": "WLadFbcvjrsM",
        "outputId": "70cfcee6-d715-45b1-e13f-2c53cb78dc9a"
      },
      "execution_count": 65,
      "outputs": [
        {
          "output_type": "stream",
          "name": "stdout",
          "text": [
            "MEAN: 6.214285714285714\n",
            "STANDARD DEVIATION: 2.425418120907092\n"
          ]
        },
        {
          "output_type": "display_data",
          "data": {
            "text/plain": [
              "<Figure size 432x288 with 1 Axes>"
            ],
            "image/png": "[encoded data removed]"
          },
          "metadata": {
            "needs_background": "light"
          }
        }
      ]
    },
    {
      "cell_type": "markdown",
      "metadata": {
        "id": "ND2DxnVOO2fp"
      },
      "source": [
        "## MLE of a conditional Gaussian $p_{model}(y|x,w)$\n",
        "\n",
        "You are given a problem that involves the relationship between $x$ and $y$. Estimate the parameters of a $p_{model}$ that fit the dataset (x,y) shown below.   You are free to use any Gradient-based optimization method you like.  \n"
      ]
    },
    {
      "cell_type": "code",
      "source": [
        "import numpy as np\n",
        "import matplotlib.pyplot as plt\n",
        "x = np.array([8, 16, 22, 33, 50, 51])\n",
        "y = np.array([5, 20, 14, 32, 42, 58])\n",
        "m=0 #inital slope\n",
        "b=0 #initial y-intercept\n",
        "eta=0.0001 #learning rate\n",
        "epochs=1000 #number of interations\n",
        "n= float(len(x)) #number of elements of x which is 6 in this case\n",
        "#gradient descent algorithm process\n",
        "for i in range(len(x)):\n",
        "  yPred=m*x+b #predicted value of y; is mx+b formula \n",
        "  derivM=(-2/n)*sum(x*(y-yPred)) # partial deriv. with respect to slope: -2/n* summation from i=0 to n of intial x(inital y- predicted y)\n",
        "  derivB=(-2/n)*sum(y-yPred) #partial deriv. with respect to the y-intercept: -2/n* summation from i=0 to n of (inital y- predicted y)\n",
        "  m=m-eta*derivM #new slope calculated using the deriv.\n",
        "  b=b-eta*derivB #new y-intercept calculated using the deriv.\n",
        "print(\"SLOPE: \",m)\n",
        "print(\"Y-INTERCEPT: \", b)\n",
        "plt.scatter(x,y)\n",
        "plt.plot([min(x),max(x)],[min(yPred),max(yPred)],color='red')\n",
        "plt.xlabel('x')\n",
        "plt.ylabel('y')\n",
        "plt.title('MLE of a conditional Gaussian')\n",
        "plt.show()"
      ],
      "metadata": {
        "colab": {
          "base_uri": "https://localhost:8080/",
          "height": 330
        },
        "id": "tywe3b9XG-vO",
        "outputId": "70761b0b-a351-4e4c-f729-2bca2f8c040a"
      },
      "execution_count": 66,
      "outputs": [
        {
          "output_type": "stream",
          "name": "stdout",
          "text": [
            "SLOPE:  0.7722026962628957\n",
            "Y-INTERCEPT:  0.019162039601876207\n"
          ]
        },
        {
          "output_type": "display_data",
          "data": {
            "text/plain": [
              "<Figure size 432x288 with 1 Axes>"
            ],
            "image/png": "[encoded data removed]"
          },
          "metadata": {
            "needs_background": "light"
          }
        }
      ]
    }
  ],
  "metadata": {
    "kernelspec": {
      "display_name": "Python 3",
      "language": "python",
      "name": "python3"
    },
    "language_info": {
      "name": "python",
      "version": "3.10.9"
    },
    "orig_nbformat": 4,
    "vscode": {
      "interpreter": {
        "hash": "7d6993cb2f9ce9a59d5d7380609d9cb5192a9dedd2735a011418ad9e827eb538"
      }
    },
    "colab": {
      "provenance": []
    }
  },
  "nbformat": 4,
  "nbformat_minor": 0
}